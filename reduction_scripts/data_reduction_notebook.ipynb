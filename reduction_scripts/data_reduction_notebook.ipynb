{
 "cells": [
  {
   "cell_type": "code",
   "execution_count": 81,
   "metadata": {},
   "outputs": [],
   "source": [
    "import numpy as np\n",
    "import sys\n",
    "import os\n",
    "from astropy.io import fits\n",
    "import pandas as pd\n",
    "from statsmodels import robust"
   ]
  },
  {
   "cell_type": "markdown",
   "metadata": {},
   "source": [
    "Loading in custom fuctions"
   ]
  },
  {
   "cell_type": "code",
   "execution_count": 82,
   "metadata": {},
   "outputs": [],
   "source": [
    "def im_sum_stat(image_name):\n",
    "    light=path+\"\\\\\"+image_name\n",
    "    dark=path+\"\\\\\"+image_name[0:len(image_name)-5]+\"dark.fits\"\n",
    "    lightimg=fits.open(light)\n",
    "    darkimg=fits.open(dark)\n",
    "    lightdat=lightimg[0].data\n",
    "    darkdat=darkimg[0].data\n",
    "    subtracted=lightdat.astype(float)-darkdat.astype(float)\n",
    "    median=np.median(subtracted)\n",
    "    mad=np.median(np.abs(subtracted-median))\n",
    "    lightimg.close()\n",
    "    darkimg.close()\n",
    "    return image_name,median,mad\n",
    "def phot_sum_stat(scan_name):\n",
    "    pdiode_frame=pd.read_csv(path+\"\\\\\"+scan_name)\n",
    "    range(int(len(pdiode_frame['Date'])/2))\n",
    "    val=[]\n",
    "    errl=[]\n",
    "    errd=[]\n",
    "    nmeasl=[]\n",
    "    nmeasd=[]\n",
    "    for i in range(int(len(pdiode_frame['Date'])/2)):\n",
    "        light=pdiode_frame['Mean_Phot'][2*i]\n",
    "        dark=pdiode_frame['Mean_Phot'][2*i+1]\n",
    "        val.append(light-dark)\n",
    "        errl.append(pdiode_frame['SD_phot'][2*i])\n",
    "        errd.append(pdiode_frame['SD_phot'][2*i+1])\n",
    "        nmeasl.append(pdiode_frame['num_read_phot'][2*i])\n",
    "        nmeasd.append(pdiode_frame['num_read_phot'][2*i+1])\n",
    "    return val, errl,errd,nmeasl,nmeasd"
   ]
  },
  {
   "cell_type": "markdown",
   "metadata": {},
   "source": [
    "to change scan change directory"
   ]
  },
  {
   "cell_type": "code",
   "execution_count": 83,
   "metadata": {},
   "outputs": [],
   "source": [
    "path=\"C:\\\\Users\\\\astrolab\\\\Desktop\\\\Peter_Ferguson\\\\TCal\\\\scans\\\\190522\\\\scan10\\\\\""
   ]
  },
  {
   "cell_type": "code",
   "execution_count": 84,
   "metadata": {},
   "outputs": [],
   "source": [
    "files=os.listdir(path)\n",
    "images_list=[i for i in files if \"nm.fits\" in i ]\n",
    "scan_list=[i for i in files if \"scan.dat\" in i ]\n",
    "lamlist=[float(i[0:3]) for i in images_list ]\n",
    "images_list=[x for _,x in sorted(zip(lamlist,images_list))]"
   ]
  },
  {
   "cell_type": "code",
   "execution_count": 85,
   "metadata": {},
   "outputs": [],
   "source": [
    "images_summary=[im_sum_stat(i) for i in images_list]"
   ]
  },
  {
   "cell_type": "code",
   "execution_count": 86,
   "metadata": {},
   "outputs": [],
   "source": [
    "imstats=pd.DataFrame({'name':[i[0] for i in images_summary],'median_img':[i[1] for i in images_summary],'mad_img':[i[2] for i in images_summary]})\n",
    "imstats['lam']=[float(i[0:3]) for i in imstats['name']]\n",
    "imstats['phot_mean'],imstats['phot_sd_l'],imstats['phot_sd_d'],imstats['phot_nmeas_l'],imstats['phot_nmeas_d']=phot_sum_stat(scan_list[0])"
   ]
  },
  {
   "cell_type": "code",
   "execution_count": 87,
   "metadata": {},
   "outputs": [
    {
     "data": {
      "text/plain": [
       "[<matplotlib.lines.Line2D at 0x1e483320940>]"
      ]
     },
     "execution_count": 87,
     "metadata": {},
     "output_type": "execute_result"
    },
    {
     "data": {
      "image/png": "[encoded data removed]",
      "text/plain": [
       "<Figure size 432x288 with 1 Axes>"
      ]
     },
     "metadata": {
      "needs_background": "light"
     },
     "output_type": "display_data"
    }
   ],
   "source": [
    "import matplotlib.pyplot as plt\n",
    "%matplotlib inline  \n",
    "plt.plot(imstats['lam'],imstats['median_img'],\"ro\")"
   ]
  },
  {
   "cell_type": "code",
   "execution_count": 88,
   "metadata": {},
   "outputs": [],
   "source": [
    "imstats.to_csv(\"C:\\\\Users\\\\astrolab\\\\Desktop\\\\Peter_Ferguson\\\\TCal\\\\scans\\\\summaries\\\\repeated_summary10.csv\", index=False)"
   ]
  },
  {
   "cell_type": "code",
   "execution_count": null,
   "metadata": {},
   "outputs": [],
   "source": []
  }
 ],
 "metadata": {
  "kernelspec": {
   "display_name": "Python 3",
   "language": "python",
   "name": "python3"
  },
  "language_info": {
   "codemirror_mode": {
    "name": "ipython",
    "version": 3
   },
   "file_extension": ".py",
   "mimetype": "text/x-python",
   "name": "python",
   "nbconvert_exporter": "python",
   "pygments_lexer": "ipython3",
   "version": "3.7.1"
  }
 },
 "nbformat": 4,
 "nbformat_minor": 2
}
