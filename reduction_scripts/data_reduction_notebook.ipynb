{
 "cells": [
  {
   "cell_type": "code",
   "execution_count": 1,
   "metadata": {},
   "outputs": [],
   "source": [
    "import numpy as np\n",
    "import sys\n",
    "import os\n",
    "from astropy.io import fits\n",
    "import pandas as pd\n",
    "from statsmodels import robust\n",
    "from tqdm import tqdm"
   ]
  },
  {
   "cell_type": "markdown",
   "metadata": {},
   "source": [
    "Loading in custom fuctions"
   ]
  },
  {
   "cell_type": "code",
   "execution_count": 2,
   "metadata": {},
   "outputs": [],
   "source": [
    "def im_sum_stat(image_name):\n",
    "    light=path+\"\\\\\"+image_name\n",
    "    dark=path+\"\\\\\"+image_name[0:len(image_name)-5]+\"dark.fits\"\n",
    "    lightimg=fits.open(light)\n",
    "    darkimg=fits.open(dark)\n",
    "    lightdat=lightimg[0].data\n",
    "    darkdat=darkimg[0].data\n",
    "    subtracted=lightdat.astype(float)-darkdat.astype(float)\n",
    "    signal_sum=np.sum(subtracted)\n",
    "    signal_error=np.sqrt(signal_sum)\n",
    "    lightimg.close()\n",
    "    darkimg.close()\n",
    "    return image_name,signal_sum,signal_error\n",
    "def phot_sum_stat(scan_name):\n",
    "    pdiode_frame=pd.read_csv(path+\"\\\\\"+scan_name)\n",
    "    range(int(len(pdiode_frame['Date'])/2))\n",
    "    val=[]\n",
    "    errl=[]\n",
    "    errd=[]\n",
    "    nmeasl=[]\n",
    "    nmeasd=[]\n",
    "    for i in range(int(len(pdiode_frame['Date'])/2)):\n",
    "        light=pdiode_frame['Mean_Phot'][2*i]\n",
    "        dark=pdiode_frame['Mean_Phot'][2*i+1]\n",
    "        val.append(light-dark)\n",
    "        errl.append(pdiode_frame['SD_phot'][2*i])\n",
    "        errd.append(pdiode_frame['SD_phot'][2*i+1])\n",
    "        nmeasl.append(pdiode_frame['num_read_phot'][2*i])\n",
    "        nmeasd.append(pdiode_frame['num_read_phot'][2*i+1])\n",
    "    return val, errl,errd,nmeasl,nmeasd"
   ]
  },
  {
   "cell_type": "markdown",
   "metadata": {},
   "source": [
    "to change scan change directory"
   ]
  },
  {
   "cell_type": "code",
   "execution_count": 3,
   "metadata": {},
   "outputs": [],
   "source": [
    "path=\"C://Users//astrolab//Desktop//Peter_Ferguson//TCal//scans//200130/\""
   ]
  },
  {
   "cell_type": "code",
   "execution_count": 4,
   "metadata": {},
   "outputs": [
    {
     "ename": "ValueError",
     "evalue": "could not convert string to float: 'sps'",
     "output_type": "error",
     "traceback": [
      "\u001b[1;31m---------------------------------------------------------------------------\u001b[0m",
      "\u001b[1;31mValueError\u001b[0m                                Traceback (most recent call last)",
      "\u001b[1;32m<ipython-input-4-3d5c1145dc66>\u001b[0m in \u001b[0;36m<module>\u001b[1;34m\u001b[0m\n\u001b[0;32m      2\u001b[0m \u001b[0mimages_list\u001b[0m\u001b[1;33m=\u001b[0m\u001b[1;33m[\u001b[0m\u001b[0mi\u001b[0m \u001b[1;32mfor\u001b[0m \u001b[0mi\u001b[0m \u001b[1;32min\u001b[0m \u001b[0mfiles\u001b[0m \u001b[1;32mif\u001b[0m \u001b[1;34m\"nm.fits\"\u001b[0m \u001b[1;32min\u001b[0m \u001b[0mi\u001b[0m \u001b[1;33m]\u001b[0m\u001b[1;33m\u001b[0m\u001b[1;33m\u001b[0m\u001b[0m\n\u001b[0;32m      3\u001b[0m \u001b[0mscan_list\u001b[0m\u001b[1;33m=\u001b[0m\u001b[1;33m[\u001b[0m\u001b[0mi\u001b[0m \u001b[1;32mfor\u001b[0m \u001b[0mi\u001b[0m \u001b[1;32min\u001b[0m \u001b[0mfiles\u001b[0m \u001b[1;32mif\u001b[0m \u001b[1;34m\"scan.dat\"\u001b[0m \u001b[1;32min\u001b[0m \u001b[0mi\u001b[0m \u001b[1;33m]\u001b[0m\u001b[1;33m\u001b[0m\u001b[1;33m\u001b[0m\u001b[0m\n\u001b[1;32m----> 4\u001b[1;33m \u001b[0mlamlist\u001b[0m\u001b[1;33m=\u001b[0m\u001b[1;33m[\u001b[0m\u001b[0mfloat\u001b[0m\u001b[1;33m(\u001b[0m\u001b[0mi\u001b[0m\u001b[1;33m[\u001b[0m\u001b[1;36m0\u001b[0m\u001b[1;33m:\u001b[0m\u001b[1;36m3\u001b[0m\u001b[1;33m]\u001b[0m\u001b[1;33m)\u001b[0m \u001b[1;32mfor\u001b[0m \u001b[0mi\u001b[0m \u001b[1;32min\u001b[0m \u001b[0mimages_list\u001b[0m \u001b[1;33m]\u001b[0m\u001b[1;33m\u001b[0m\u001b[1;33m\u001b[0m\u001b[0m\n\u001b[0m\u001b[0;32m      5\u001b[0m \u001b[0mimages_list\u001b[0m\u001b[1;33m=\u001b[0m\u001b[1;33m[\u001b[0m\u001b[0mx\u001b[0m \u001b[1;32mfor\u001b[0m \u001b[0m_\u001b[0m\u001b[1;33m,\u001b[0m\u001b[0mx\u001b[0m \u001b[1;32min\u001b[0m \u001b[0msorted\u001b[0m\u001b[1;33m(\u001b[0m\u001b[0mzip\u001b[0m\u001b[1;33m(\u001b[0m\u001b[0mlamlist\u001b[0m\u001b[1;33m,\u001b[0m\u001b[0mimages_list\u001b[0m\u001b[1;33m)\u001b[0m\u001b[1;33m)\u001b[0m\u001b[1;33m]\u001b[0m\u001b[1;33m\u001b[0m\u001b[1;33m\u001b[0m\u001b[0m\n\u001b[0;32m      6\u001b[0m \u001b[0mprint\u001b[0m\u001b[1;33m(\u001b[0m\u001b[0mimages_list\u001b[0m\u001b[1;33m[\u001b[0m\u001b[1;36m0\u001b[0m\u001b[1;33m]\u001b[0m\u001b[1;33m)\u001b[0m\u001b[1;33m\u001b[0m\u001b[1;33m\u001b[0m\u001b[0m\n",
      "\u001b[1;32m<ipython-input-4-3d5c1145dc66>\u001b[0m in \u001b[0;36m<listcomp>\u001b[1;34m(.0)\u001b[0m\n\u001b[0;32m      2\u001b[0m \u001b[0mimages_list\u001b[0m\u001b[1;33m=\u001b[0m\u001b[1;33m[\u001b[0m\u001b[0mi\u001b[0m \u001b[1;32mfor\u001b[0m \u001b[0mi\u001b[0m \u001b[1;32min\u001b[0m \u001b[0mfiles\u001b[0m \u001b[1;32mif\u001b[0m \u001b[1;34m\"nm.fits\"\u001b[0m \u001b[1;32min\u001b[0m \u001b[0mi\u001b[0m \u001b[1;33m]\u001b[0m\u001b[1;33m\u001b[0m\u001b[1;33m\u001b[0m\u001b[0m\n\u001b[0;32m      3\u001b[0m \u001b[0mscan_list\u001b[0m\u001b[1;33m=\u001b[0m\u001b[1;33m[\u001b[0m\u001b[0mi\u001b[0m \u001b[1;32mfor\u001b[0m \u001b[0mi\u001b[0m \u001b[1;32min\u001b[0m \u001b[0mfiles\u001b[0m \u001b[1;32mif\u001b[0m \u001b[1;34m\"scan.dat\"\u001b[0m \u001b[1;32min\u001b[0m \u001b[0mi\u001b[0m \u001b[1;33m]\u001b[0m\u001b[1;33m\u001b[0m\u001b[1;33m\u001b[0m\u001b[0m\n\u001b[1;32m----> 4\u001b[1;33m \u001b[0mlamlist\u001b[0m\u001b[1;33m=\u001b[0m\u001b[1;33m[\u001b[0m\u001b[0mfloat\u001b[0m\u001b[1;33m(\u001b[0m\u001b[0mi\u001b[0m\u001b[1;33m[\u001b[0m\u001b[1;36m0\u001b[0m\u001b[1;33m:\u001b[0m\u001b[1;36m3\u001b[0m\u001b[1;33m]\u001b[0m\u001b[1;33m)\u001b[0m \u001b[1;32mfor\u001b[0m \u001b[0mi\u001b[0m \u001b[1;32min\u001b[0m \u001b[0mimages_list\u001b[0m \u001b[1;33m]\u001b[0m\u001b[1;33m\u001b[0m\u001b[1;33m\u001b[0m\u001b[0m\n\u001b[0m\u001b[0;32m      5\u001b[0m \u001b[0mimages_list\u001b[0m\u001b[1;33m=\u001b[0m\u001b[1;33m[\u001b[0m\u001b[0mx\u001b[0m \u001b[1;32mfor\u001b[0m \u001b[0m_\u001b[0m\u001b[1;33m,\u001b[0m\u001b[0mx\u001b[0m \u001b[1;32min\u001b[0m \u001b[0msorted\u001b[0m\u001b[1;33m(\u001b[0m\u001b[0mzip\u001b[0m\u001b[1;33m(\u001b[0m\u001b[0mlamlist\u001b[0m\u001b[1;33m,\u001b[0m\u001b[0mimages_list\u001b[0m\u001b[1;33m)\u001b[0m\u001b[1;33m)\u001b[0m\u001b[1;33m]\u001b[0m\u001b[1;33m\u001b[0m\u001b[1;33m\u001b[0m\u001b[0m\n\u001b[0;32m      6\u001b[0m \u001b[0mprint\u001b[0m\u001b[1;33m(\u001b[0m\u001b[0mimages_list\u001b[0m\u001b[1;33m[\u001b[0m\u001b[1;36m0\u001b[0m\u001b[1;33m]\u001b[0m\u001b[1;33m)\u001b[0m\u001b[1;33m\u001b[0m\u001b[1;33m\u001b[0m\u001b[0m\n",
      "\u001b[1;31mValueError\u001b[0m: could not convert string to float: 'sps'"
     ]
    }
   ],
   "source": [
    "files=os.listdir(path)\n",
    "images_list=[i for i in files if \"nm.fits\" in i ]\n",
    "scan_list=[i for i in files if \"scan.dat\" in i ]\n",
    "lamlist=[float(i[0:3]) for i in images_list ]\n",
    "images_list=[x for _,x in sorted(zip(lamlist,images_list))]\n",
    "print(images_list[0])\n",
    "print(len(images_list))"
   ]
  },
  {
   "cell_type": "code",
   "execution_count": 6,
   "metadata": {},
   "outputs": [
    {
     "name": "stderr",
     "output_type": "stream",
     "text": [
      "  4%|▎         | 12/325 [00:02<00:52,  5.99it/s]C:\\Users\\astrolab\\Anaconda3\\lib\\site-packages\\ipykernel_launcher.py:10: RuntimeWarning: invalid value encountered in sqrt\n",
      "  # Remove the CWD from sys.path while we load stuff.\n",
      "100%|██████████| 325/325 [00:53<00:00,  6.06it/s]\n"
     ]
    }
   ],
   "source": [
    "images_summary=[im_sum_stat(i) for i in tqdm(images_list)]"
   ]
  },
  {
   "cell_type": "code",
   "execution_count": 7,
   "metadata": {},
   "outputs": [],
   "source": [
    "imstats=pd.DataFrame({'name':[i[0] for i in images_summary],'sum_img':[i[1] for i in images_summary],'error_img':[i[2] for i in images_summary]})\n",
    "imstats['lam']=[float(i[0:3]) for i in imstats['name']]\n",
    "imstats['phot_mean'],imstats['phot_sd_l'],imstats['phot_sd_d'],imstats['phot_nmeas_l'],imstats['phot_nmeas_d']=phot_sum_stat(scan_list[0])"
   ]
  },
  {
   "cell_type": "code",
   "execution_count": 8,
   "metadata": {},
   "outputs": [
    {
     "data": {
      "text/plain": [
       "[<matplotlib.lines.Line2D at 0x209805d38d0>]"
      ]
     },
     "execution_count": 8,
     "metadata": {},
     "output_type": "execute_result"
    },
    {
     "data": {
      "image/png": "[encoded data removed]",
      "text/plain": [
       "<Figure size 432x288 with 1 Axes>"
      ]
     },
     "metadata": {
      "needs_background": "light"
     },
     "output_type": "display_data"
    }
   ],
   "source": [
    "import matplotlib.pyplot as plt\n",
    "%matplotlib inline  \n",
    "plt.plot(imstats['lam'],imstats['sum_img']/imstats['phot_mean'],\"ro\")"
   ]
  },
  {
   "cell_type": "code",
   "execution_count": 9,
   "metadata": {},
   "outputs": [
    {
     "data": {
      "text/plain": [
       "[<matplotlib.lines.Line2D at 0x2098087f908>]"
      ]
     },
     "execution_count": 9,
     "metadata": {},
     "output_type": "execute_result"
    },
    {
     "data": {
      "image/png": "[encoded data removed]",
      "text/plain": [
       "<Figure size 432x288 with 1 Axes>"
      ]
     },
     "metadata": {
      "needs_background": "light"
     },
     "output_type": "display_data"
    }
   ],
   "source": [
    "plt.plot(imstats['lam'],imstats['sum_img'],\"ro\")"
   ]
  },
  {
   "cell_type": "code",
   "execution_count": 10,
   "metadata": {},
   "outputs": [],
   "source": [
    "imstats.to_csv(\"C:\\\\Users\\\\astrolab\\\\Desktop\\\\Peter_Ferguson\\\\TCal\\\\scans\\\\summaries\\\\scan5_2nmS_5nmBP_odd.csv\", index=False)"
   ]
  },
  {
   "cell_type": "code",
   "execution_count": 23,
   "metadata": {},
   "outputs": [],
   "source": [
    "sum1=pd.read_csv(\"C://Users//astrolab//Desktop//Peter_Ferguson//TCal//scans//summaries/190522_alluxa_can_1nm.csv\")"
   ]
  },
  {
   "cell_type": "code",
   "execution_count": 24,
   "metadata": {},
   "outputs": [
    {
     "data": {
      "text/plain": [
       "[<matplotlib.lines.Line2D at 0x16d60ddfba8>]"
      ]
     },
     "execution_count": 24,
     "metadata": {},
     "output_type": "execute_result"
    },
    {
     "data": {
      "image/png": "[encoded data removed]",
      "text/plain": [
       "<Figure size 432x288 with 1 Axes>"
      ]
     },
     "metadata": {
      "needs_background": "light"
     },
     "output_type": "display_data"
    }
   ],
   "source": [
    "plt.plot(sum1['lam'],sum1['median_img']/sum1['phot_mean'],\"r-\")"
   ]
  },
  {
   "cell_type": "code",
   "execution_count": null,
   "metadata": {},
   "outputs": [],
   "source": []
  }
 ],
 "metadata": {
  "kernelspec": {
   "display_name": "Python 3",
   "language": "python",
   "name": "python3"
  },
  "language_info": {
   "codemirror_mode": {
    "name": "ipython",
    "version": 3
   },
   "file_extension": ".py",
   "mimetype": "text/x-python",
   "name": "python",
   "nbconvert_exporter": "python",
   "pygments_lexer": "ipython3",
   "version": "3.7.1"
  }
 },
 "nbformat": 4,
 "nbformat_minor": 4
}
